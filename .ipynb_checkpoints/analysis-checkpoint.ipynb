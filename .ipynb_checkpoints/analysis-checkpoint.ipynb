{
 "cells": [
  {
   "cell_type": "code",
   "execution_count": 1,
   "metadata": {
    "pycharm": {
     "is_executing": false
    }
   },
   "outputs": [],
   "source": [
    "import pandas as pd\n",
    "import matplotlib.pyplot as plt\n",
    "from utils import parse_to_float, convert_date_format, apply_quantiles\n",
    "import statsmodels.formula.api as smf\n",
    "from config import token_keyword_mapping\n",
    "import warnings\n",
    "warnings.filterwarnings('ignore')"
   ]
  },
  {
   "cell_type": "code",
   "execution_count": 2,
   "metadata": {
    "pycharm": {
     "is_executing": false
    }
   },
   "outputs": [],
   "source": [
    "def preprocess(data, filename):\n",
    "    data = data.reindex(index=data.index[::-1])\n",
    "    data['Date'] = data['Date'].apply(lambda x: convert_date_format(x))\n",
    "    if 'btc' in filename or 'eth' in filename or 'bch' in filename or 'dash' in filename:\n",
    "        data['Open'] = data['Open'].apply(parse_to_float)\n",
    "    return data"
   ]
  },
  {
   "cell_type": "code",
   "execution_count": 3,
   "metadata": {
    "pycharm": {
     "is_executing": false
    }
   },
   "outputs": [],
   "source": [
    "def get_daily_df(data):\n",
    "    daily_df = data.copy()\n",
    "    daily_df['Close'] = daily_df['Open'].shift(-1)\n",
    "    daily_df['ReturnD'] = daily_df.apply(lambda x: (x['Close'] - x['Open']) / x['Open'] * 100, axis=1)\n",
    "    return daily_df.dropna()"
   ]
  },
  {
   "cell_type": "code",
   "execution_count": 4,
   "metadata": {
    "pycharm": {
     "is_executing": false
    }
   },
   "outputs": [],
   "source": [
    "def plot_daily_df(daily_df):\n",
    "    graph_data = daily_df[daily_df['ReturnD'] < 100]\n",
    "    plt.hist(graph_data['ReturnD'], bins=200)\n",
    "    plt.title(f'Daily Return Distribution for {filename.split(\".\")[0].upper()}')\n",
    "    plt.xlabel('Daily Return x 100')\n",
    "    plt.ylabel('Frequency')\n",
    "    plt.show()"
   ]
  },
  {
   "cell_type": "code",
   "execution_count": 5,
   "metadata": {
    "pycharm": {
     "is_executing": false
    }
   },
   "outputs": [],
   "source": [
    "def get_weekly_df(data):\n",
    "    weekly_df = data.copy()\n",
    "    weekly_df = weekly_df.iloc[::7, :]\n",
    "    weekly_df[\"CloseT+7\"] = weekly_df['Open'].shift(-1)\n",
    "    weekly_df['ReturnW'] = weekly_df.apply(lambda x: (x['CloseT+7'] - x['Open']) / x['Open'] * 100, axis=1)\n",
    "    return weekly_df.dropna()"
   ]
  },
  {
   "cell_type": "code",
   "execution_count": 6,
   "metadata": {
    "pycharm": {
     "is_executing": false
    }
   },
   "outputs": [],
   "source": [
    "def plot_weekly_df(weekly_df):\n",
    "    plt.hist(weekly_df['ReturnW'], bins=100)\n",
    "    plt.title(f'Weekly Return Distribution for {filename.split(\".\")[0].upper()}')\n",
    "    plt.xlabel('Weekly Return x 100')\n",
    "    plt.ylabel('Frequency')\n",
    "    plt.show()"
   ]
  },
  {
   "cell_type": "code",
   "execution_count": 7,
   "metadata": {
    "pycharm": {
     "is_executing": false
    }
   },
   "outputs": [],
   "source": [
    "def get_monthly_df(data):\n",
    "    monthly_df = data.copy()\n",
    "    monthly_df = monthly_df.iloc[::30, :]\n",
    "    monthly_df[\"CloseT+30\"] = monthly_df['Open'].shift(-1)\n",
    "    monthly_df['ReturnM'] = monthly_df.apply(lambda x: (x['CloseT+30'] - x['Open']) / x['Open'] * 100, axis=1)\n",
    "    return monthly_df.dropna()\n"
   ]
  },
  {
   "cell_type": "code",
   "execution_count": 8,
   "metadata": {
    "pycharm": {
     "is_executing": false
    }
   },
   "outputs": [],
   "source": [
    "def plot_monthly_df(monthly_df):\n",
    "    plt.hist(monthly_df['ReturnM'], bins=25)\n",
    "    plt.title(f'Monthly Return for Distribution {filename.split(\".\")[0].upper()}')\n",
    "    plt.xlabel('Monthly Return x 100')\n",
    "    plt.ylabel('Frequency')\n",
    "    plt.show()"
   ]
  },
  {
   "cell_type": "code",
   "execution_count": 9,
   "metadata": {
    "pycharm": {
     "is_executing": false
    }
   },
   "outputs": [],
   "source": [
    "def add_google_data(tick_data, frequency):\n",
    "    currency_name = token_keyword_mapping[filename.split('.')[0]]\n",
    "    if frequency == 7:\n",
    "        google_data = pd.read_csv(f\"{folder+filename.split('.')[0]}_weekly_trends.csv\")\n",
    "    elif frequency == 1:\n",
    "        google_data = pd.read_csv(f\"{folder+filename.split('.')[0]}_trends.csv\")\n",
    "    google_data = google_data[['date', currency_name]]\n",
    "    google_data = google_data.rename(columns={token_keyword_mapping[filename.split('.')[0]]: 'Google', 'date': 'Date'})\n",
    "    return tick_data.merge(google_data, how='left', on='Date')"
   ]
  },
  {
   "cell_type": "code",
   "execution_count": 10,
   "metadata": {
    "pycharm": {
     "is_executing": false
    }
   },
   "outputs": [],
   "source": [
    "def get_daily_momentum(daily_df):\n",
    "    daily_momentum = pd.DataFrame(columns=[\"rt_index\", \"beta\", \"t-statistic\", \"p<|t|\", \"r^2\"])\n",
    "    for i in range(1, 8):\n",
    "        daily_df['period'] = daily_df['ReturnD'].shift(-1 * i)\n",
    "        daily_df = daily_df.dropna()\n",
    "        model = smf.ols('period ~ ReturnD', daily_df).fit()\n",
    "        r2 = model.rsquared\n",
    "        df = pd.read_html(model.summary().tables[1].as_html(), header=0, index_col=0)[0]\n",
    "        model_data = (df.iloc[[1]].values.tolist())\n",
    "        beta = model_data[0][0]\n",
    "        t = model_data[0][2]\n",
    "        pt = model_data[0][3]\n",
    "        daily_momentum.loc[len(daily_momentum)] = [i, beta, t, pt, r2]\n",
    "    return daily_momentum"
   ]
  },
  {
   "cell_type": "code",
   "execution_count": 11,
   "metadata": {
    "pycharm": {
     "is_executing": false
    }
   },
   "outputs": [],
   "source": [
    "def get_weekly_momentum(weekly_df):\n",
    "    weekly_momentum = pd.DataFrame(columns=[\"rt_index\", \"beta\", \"t-statistic\", \"p<|t|\", \"r^2\"])\n",
    "    for i in range(1, 5):\n",
    "        weekly_df['period'] = weekly_df['ReturnW'].shift(-1 * i)\n",
    "        weekly_df = weekly_df.dropna()\n",
    "        model = smf.ols('period ~ ReturnW', weekly_df).fit()\n",
    "        r2 = model.rsquared\n",
    "        df = pd.read_html(model.summary().tables[1].as_html(), header=0, index_col=0)[0]\n",
    "        model_data = (df.iloc[[1]].values.tolist())\n",
    "        beta = model_data[0][1]\n",
    "        t = model_data[0][2]\n",
    "        pt = model_data[0][3]\n",
    "        weekly_momentum.loc[len(weekly_momentum)] = [i, beta, t, pt, r2]\n",
    "    return weekly_momentum"
   ]
  },
  {
   "cell_type": "code",
   "execution_count": 12,
   "metadata": {
    "pycharm": {
     "is_executing": false
    }
   },
   "outputs": [],
   "source": [
    "def get_invatt_google_weekly(weekly_df):\n",
    "    weekly_invatt_google = pd.DataFrame(columns=[\"rt_index\", \"beta\", \"t-statistic\", \"p<|t|\", \"r^2\"])\n",
    "    for i in range(1, 8):\n",
    "        weekly_df['period'] = weekly_df['ReturnW'].shift(-1 * i)\n",
    "        weekly_df = weekly_df.dropna()\n",
    "        model = smf.ols('period ~ Google', weekly_df).fit()\n",
    "        r2 = model.rsquared\n",
    "        df = pd.read_html(model.summary().tables[1].as_html(), header=0, index_col=0)[0]\n",
    "        model_data = (df.iloc[[1]].values.tolist())\n",
    "        beta = model_data[0][0]\n",
    "        t = model_data[0][2]\n",
    "        pt = model_data[0][3]\n",
    "        weekly_invatt_google.loc[len(weekly_invatt_google)] = [i, beta, t, pt, r2]\n",
    "    return weekly_invatt_google"
   ]
  },
  {
   "cell_type": "code",
   "execution_count": 13,
   "metadata": {
    "pycharm": {
     "is_executing": false
    }
   },
   "outputs": [],
   "source": [
    "def get_group_weekly_momentum(labels, weekly_df):\n",
    "    weekly_momentum_group = pd.DataFrame(columns=[\"quintile_index\", \"rt_index\", \"equal error rate\", \"t-statistic\", \"p<|t|\", \"r^2\"])\n",
    "    for quintile_idx in range(0, 5):\n",
    "        quintile_data = weekly_df[weekly_df[\"quintile_idx\"] == quintile_idx]\n",
    "        for rt_idx in range(1, 5):\n",
    "            quintile_data[\"rt\"] = quintile_data['ReturnW'].shift(-1 * rt_idx)\n",
    "            quintile_data = quintile_data.dropna()\n",
    "            model = smf.ols('rt ~ ReturnW'.format(rt_idx), quintile_data).fit()\n",
    "            r2 = model.rsquared\n",
    "            df = pd.read_html(model.summary().tables[1].as_html(), header=0, index_col=0)[0]\n",
    "            model_data = (df.iloc[[1]].values.tolist())\n",
    "            err = model_data[0][1]\n",
    "            t = model_data[0][2]\n",
    "            pt = model_data[0][3]\n",
    "            weekly_momentum_group.loc[len(weekly_momentum_group)] = [labels[quintile_idx], rt_idx, err, t, pt, r2]\n",
    "    return weekly_momentum_group"
   ]
  },
  {
   "cell_type": "code",
   "execution_count": 14,
   "metadata": {
    "pycharm": {
     "is_executing": false
    }
   },
   "outputs": [],
   "source": [
    "def get_group_invatt_google_weekly(labels, weekly_df):\n",
    "    weekly_momentum_google_group = pd.DataFrame(columns=[\"quintile_index\", \"rt_index\", \"equal error rate\", \"t-statistic\", \"p<|t|\", \"r^2\"])\n",
    "    for quintile_idx in range(0, 5):\n",
    "        quintile_data = weekly_df[weekly_df[\"quintile_google_idx\"] == quintile_idx]\n",
    "        for i in range(1, 5):\n",
    "            quintile_data['period'] = quintile_data['ReturnW'].shift(-1 * i)\n",
    "            quintile_data = quintile_data.dropna()\n",
    "            model = smf.ols('period ~ Google', quintile_data).fit()\n",
    "            r2 = model.rsquared\n",
    "            df = pd.read_html(model.summary().tables[1].as_html(), header=0, index_col=0)[0]\n",
    "            model_data = (df.iloc[[1]].values.tolist())\n",
    "            err = model_data[0][1]\n",
    "            t = model_data[0][2]\n",
    "            pt = model_data[0][3]\n",
    "            weekly_momentum_google_group.loc[len(weekly_momentum_google_group)] = [labels[quintile_idx], i, err, t, pt, r2]\n",
    "    return weekly_momentum_google_group"
   ]
  },
  {
   "cell_type": "code",
   "execution_count": 15,
   "metadata": {
    "pycharm": {
     "is_executing": false
    }
   },
   "outputs": [
    {
     "data": {
      "image/png": "[encoded data removed]",
      "text/plain": [
       "<Figure size 432x288 with 1 Axes>"
      ]
     },
     "metadata": {
      "needs_background": "light"
     },
     "output_type": "display_data"
    },
    {
     "data": {
      "image/png": "[encoded data removed]",
      "text/plain": [
       "<Figure size 432x288 with 1 Axes>"
      ]
     },
     "metadata": {
      "needs_background": "light"
     },
     "output_type": "display_data"
    },
    {
     "name": "stdout",
     "output_type": "stream",
     "text": [
      "---DAILY MOMENTUM---\n",
      "          equal error rate  t-statistic  p<|t|           r^2\n",
      "rt_index                                                    \n",
      "1.0                  0.017       -0.028  0.977  2.203671e-07\n",
      "2.0                  0.016       -8.319  0.000  1.862932e-02\n",
      "3.0                  0.017        0.980  0.327  2.635949e-04\n",
      "4.0                  0.016       13.223  0.000  4.584635e-02\n",
      "5.0                  0.017        3.897  0.000  4.161680e-03\n",
      "6.0                  0.017       -3.859  0.000  4.087070e-03\n",
      "7.0                  0.017       -2.538  0.011  1.775412e-03\n",
      "---WEEKLY MOMENTUM---\n",
      "          equal error rate  t-statistic  p<|t|       r^2\n",
      "rt_index                                                \n",
      "1.0                  0.044        1.442  0.150  0.004000\n",
      "2.0                  0.043        3.333  0.001  0.021081\n",
      "3.0                  0.043        3.783  0.000  0.027145\n",
      "---GOOGLE INVESTOR ATTENNTION WEEKLY MOMENTUM---\n",
      "          equal error rate  t-statistic  p<|t|       r^2\n",
      "rt_index                                                \n",
      "1.0                  0.050        0.346  0.730  0.000231\n",
      "2.0                  0.050       -0.628  0.530  0.000764\n",
      "3.0                  0.051       -1.175  0.240  0.002685\n",
      "4.0                  0.050       -0.980  0.328  0.001882\n",
      "5.0                  0.052       -1.431  0.153  0.004046\n",
      "6.0                  0.050       -1.777  0.076  0.006304\n",
      "7.0                  0.050       -2.276  0.023  0.010441\n",
      "---WEEKLY MOMENTUM BY QUINTILE---\n",
      "                         equal error rate  t-statistic  p<|t|       r^2\n",
      "quintile_index rt_index                                                \n",
      "-52.111111     1.0                  0.098        1.556  0.123  0.023195\n",
      "               2.0                  0.100        0.593  0.555  0.003502\n",
      "               3.0                  0.105        1.301  0.196  0.017147\n",
      "               4.0                  0.103        1.569  0.120  0.025778\n",
      "-5.725089      1.0                  0.097        1.937  0.056  0.035827\n",
      "               2.0                  0.099        1.686  0.095  0.027911\n",
      "               3.0                  0.101        1.524  0.131  0.023610\n",
      "               4.0                  0.102        1.894  0.061  0.037525\n",
      "-0.291159      1.0                  0.099        0.714  0.477  0.005022\n",
      "               2.0                  0.100        0.821  0.413  0.006766\n",
      "               3.0                  0.101       -0.309  0.758  0.000991\n",
      "               4.0                  0.100       -2.105  0.038  0.045932\n",
      " 3.968903      1.0                  0.099       -0.798  0.427  0.006268\n",
      "               2.0                  0.101        0.301  0.764  0.000913\n",
      "               3.0                  0.103        0.117  0.907  0.000142\n",
      "               4.0                  0.103        0.679  0.499  0.004989\n",
      " 10.731717     1.0                  0.095        3.113  0.002  0.087563\n",
      "               2.0                  0.088        4.891  0.000  0.194599\n",
      "               3.0                  0.090        2.394  0.019  0.056336\n",
      "               4.0                  0.087        1.800  0.075  0.034008\n",
      "---GOOGLE INVESTOR ATTENNTION WEEKLY MOMENTUM BY QUINTILE---\n",
      "                         equal error rate  t-statistic  p<|t|       r^2\n",
      "quintile_index rt_index                                                \n",
      "-52.111111     1.0                  0.048       -0.694  0.489  0.004698\n",
      "               2.0                  0.050       -0.471  0.639  0.002210\n",
      "               3.0                  0.050       -0.804  0.424  0.006613\n",
      "               4.0                  0.049       -1.078  0.284  0.012346\n",
      "-5.725089      1.0                  0.022       -1.536  0.128  0.022836\n",
      "               2.0                  0.024       -1.091  0.278  0.011870\n",
      "               3.0                  0.025       -1.025  0.308  0.010816\n",
      "               4.0                  0.025       -0.024  0.981  0.000006\n",
      "-0.291159      1.0                  0.019        2.256  0.026  0.047962\n",
      "               2.0                  0.019        1.967  0.052  0.037609\n",
      "               3.0                  0.019        2.933  0.004  0.082254\n",
      "               4.0                  0.019        2.195  0.031  0.049771\n",
      " 3.968903      1.0                  0.020       -0.535  0.594  0.002826\n",
      "               2.0                  0.021        0.231  0.817  0.000541\n",
      "               3.0                  0.022        0.104  0.917  0.000113\n",
      "               4.0                  0.022       -0.265  0.791  0.000765\n",
      " 10.731717     1.0                  0.102        0.885  0.378  0.007698\n",
      "               2.0                  0.105        0.221  0.825  0.000494\n",
      "               3.0                  0.102        0.750  0.455  0.005819\n",
      "               4.0                  0.097        1.092  0.278  0.012786\n",
      "---------------------------------------------------*****---------------------------------------------------\n",
      "---------------------------------------------------*****---------------------------------------------------\n"
     ]
    },
    {
     "data": {
      "image/png": "[encoded data removed]",
      "text/plain": [
       "<Figure size 432x288 with 1 Axes>"
      ]
     },
     "metadata": {
      "needs_background": "light"
     },
     "output_type": "display_data"
    },
    {
     "data": {
      "image/png": "[encoded data removed]",
      "text/plain": [
       "<Figure size 432x288 with 1 Axes>"
      ]
     },
     "metadata": {
      "needs_background": "light"
     },
     "output_type": "display_data"
    },
    {
     "name": "stdout",
     "output_type": "stream",
     "text": [
      "---DAILY MOMENTUM---\n",
      "          equal error rate  t-statistic  p<|t|       r^2\n",
      "rt_index                                                \n",
      "1.0                  0.023       -1.515  0.130  0.001245\n",
      "2.0                  0.023        2.522  0.012  0.003445\n",
      "3.0                  0.023        0.903  0.367  0.000444\n",
      "4.0                  0.023       -0.204  0.838  0.000023\n",
      "5.0                  0.023        1.929  0.054  0.002031\n",
      "6.0                  0.023        1.611  0.107  0.001423\n",
      "7.0                  0.023       -0.576  0.565  0.000182\n",
      "---WEEKLY MOMENTUM---\n",
      "          equal error rate  t-statistic  p<|t|       r^2\n",
      "rt_index                                                \n",
      "1.0                  0.061        2.294  0.023  0.019836\n",
      "2.0                  0.062        1.814  0.071  0.012590\n",
      "3.0                  0.062        2.074  0.039  0.016587\n",
      "---GOOGLE INVESTOR ATTENNTION WEEKLY MOMENTUM---\n",
      "          equal error rate  t-statistic  p<|t|       r^2\n",
      "rt_index                                                \n",
      "1.0                  0.054        0.945  0.345  0.003426\n",
      "2.0                  0.056        0.695  0.487  0.001871\n",
      "3.0                  0.061        0.668  0.505  0.001745\n",
      "4.0                  0.069        0.280  0.780  0.000311\n",
      "5.0                  0.079        0.226  0.822  0.000207\n",
      "6.0                  0.078       -0.908  0.365  0.003422\n",
      "7.0                  0.078       -1.714  0.088  0.012456\n",
      "---WEEKLY MOMENTUM BY QUINTILE---\n",
      "                         equal error rate  t-statistic  p<|t|       r^2\n",
      "quintile_index rt_index                                                \n",
      "-49.305942     1.0                  0.142       -0.235  0.815  0.001106\n",
      "               2.0                  0.145       -0.574  0.568  0.006829\n",
      "               3.0                  0.190        0.653  0.517  0.009397\n",
      "               4.0                  0.156        0.270  0.789  0.001769\n",
      "-8.035901      1.0                  0.143        0.433  0.667  0.003814\n",
      "               2.0                  0.146        0.892  0.377  0.016632\n",
      "               3.0                  0.149       -0.879  0.384  0.017269\n",
      "               4.0                  0.155       -0.594  0.556  0.008756\n",
      "-1.475450      1.0                  0.140        0.330  0.743  0.002173\n",
      "               2.0                  0.143       -0.703  0.486  0.010187\n",
      "               3.0                  0.145        0.245  0.808  0.001327\n",
      "               4.0                  0.156        0.547  0.588  0.007235\n",
      " 4.423877      1.0                  0.144        0.089  0.930  0.000160\n",
      "               2.0                  0.144        0.445  0.659  0.004190\n",
      "               3.0                  0.152       -1.155  0.254  0.029438\n",
      "               4.0                  0.155        1.411  0.166  0.047411\n",
      " 12.999222     1.0                  0.136        2.009  0.050  0.074663\n",
      "               2.0                  0.144        0.619  0.539  0.007920\n",
      "               3.0                  0.163        0.431  0.668  0.004118\n",
      "               4.0                  0.155       -0.472  0.640  0.005394\n",
      "---GOOGLE INVESTOR ATTENNTION WEEKLY MOMENTUM BY QUINTILE---\n",
      "                         equal error rate  t-statistic  p<|t|       r^2\n",
      "quintile_index rt_index                                                \n",
      "-49.305942     1.0                  0.083        0.461  0.647  0.004237\n",
      "               2.0                  0.084        0.539  0.592  0.006020\n",
      "               3.0                  0.085        0.876  0.386  0.016775\n",
      "               4.0                  0.070       -0.571  0.571  0.007877\n",
      "-8.035901      1.0                  0.017        0.451  0.654  0.004125\n",
      "               2.0                  0.022        1.204  0.235  0.029912\n",
      "               3.0                  0.023        1.442  0.156  0.045113\n",
      "               4.0                  0.023        0.728  0.471  0.013085\n",
      "-1.475450      1.0                  0.024        0.375  0.709  0.002811\n",
      "               2.0                  0.023        0.619  0.539  0.007913\n",
      "               3.0                  0.023        0.011  0.991  0.000003\n",
      "               4.0                  0.023       -0.564  0.576  0.007693\n",
      " 4.423877      1.0                  0.023       -0.797  0.429  0.012797\n",
      "               2.0                  0.042        0.608  0.546  0.007816\n",
      "               3.0                  0.044       -1.054  0.298  0.024610\n",
      "               4.0                  0.045        0.302  0.764  0.002282\n",
      " 12.999222     1.0                  0.081        0.751  0.456  0.011159\n",
      "               2.0                  0.092        0.042  0.967  0.000037\n",
      "               3.0                  0.115       -0.534  0.596  0.006288\n",
      "               4.0                  0.108       -0.703  0.486  0.011926\n",
      "---------------------------------------------------*****---------------------------------------------------\n",
      "---------------------------------------------------*****---------------------------------------------------\n"
     ]
    },
    {
     "data": {
      "image/png": "[encoded data removed]",
      "text/plain": [
       "<Figure size 432x288 with 1 Axes>"
      ]
     },
     "metadata": {
      "needs_background": "light"
     },
     "output_type": "display_data"
    },
    {
     "data": {
      "image/png": "[encoded data removed]",
      "text/plain": [
       "<Figure size 432x288 with 1 Axes>"
      ]
     },
     "metadata": {
      "needs_background": "light"
     },
     "output_type": "display_data"
    },
    {
     "name": "stdout",
     "output_type": "stream",
     "text": [
      "---DAILY MOMENTUM---\n",
      "          equal error rate  t-statistic  p<|t|           r^2\n",
      "rt_index                                                    \n",
      "1.0                  0.026       -4.218  0.000  1.184153e-02\n",
      "2.0                  0.026        1.244  0.214  1.041648e-03\n",
      "3.0                  0.026        0.733  0.464  3.624428e-04\n",
      "4.0                  0.026        0.308  0.758  6.440786e-05\n",
      "5.0                  0.026        2.037  0.042  2.813720e-03\n",
      "6.0                  0.026       -0.235  0.814  3.780539e-05\n",
      "7.0                  0.026        0.022  0.983  3.188544e-07\n",
      "---WEEKLY MOMENTUM---\n",
      "          equal error rate  t-statistic  p<|t|       r^2\n",
      "rt_index                                                \n",
      "1.0                  0.067        1.134  0.258  0.006112\n",
      "2.0                  0.067       -0.186  0.853  0.000167\n",
      "3.0                  0.067       -0.400  0.690  0.000784\n",
      "---GOOGLE INVESTOR ATTENNTION WEEKLY MOMENTUM---\n",
      "          equal error rate  t-statistic  p<|t|       r^2\n",
      "rt_index                                                \n",
      "1.0                  0.093        0.320  0.750  0.000489\n",
      "2.0                  0.092        0.678  0.499  0.002213\n",
      "3.0                  0.097        0.291  0.771  0.000415\n",
      "4.0                  0.099        0.418  0.677  0.000871\n",
      "5.0                  0.088       -0.448  0.655  0.001026\n",
      "6.0                  0.088       -0.985  0.326  0.005108\n",
      "7.0                  0.089       -1.082  0.281  0.006396\n",
      "---WEEKLY MOMENTUM BY QUINTILE---\n",
      "                         equal error rate  t-statistic  p<|t|       r^2\n",
      "quintile_index rt_index                                                \n",
      "-48.827567     1.0                  0.159        0.232  0.818  0.001345\n",
      "               2.0                  0.161       -0.974  0.336  0.024364\n",
      "               3.0                  0.210       -0.106  0.917  0.000318\n",
      "               4.0                  0.166       -0.510  0.613  0.008329\n",
      "-9.211302      1.0                  0.158        1.071  0.291  0.028579\n",
      "               2.0                  0.167       -0.408  0.686  0.004474\n",
      "               3.0                  0.178        0.947  0.350  0.025703\n",
      "               4.0                  0.193       -0.249  0.805  0.002068\n",
      "-4.470307      1.0                  0.157        0.924  0.361  0.021433\n",
      "               2.0                  0.161       -0.842  0.405  0.018796\n",
      "               3.0                  0.170       -1.116  0.272  0.035345\n",
      "               4.0                  0.188       -0.292  0.772  0.002840\n",
      " 1.795526      1.0                  0.159       -1.300  0.201  0.041526\n",
      "               2.0                  0.162       -0.477  0.636  0.006122\n",
      "               3.0                  0.164        0.439  0.663  0.005635\n",
      "               4.0                  0.178       -0.415  0.681  0.005711\n",
      " 11.641494     1.0                  0.152       -0.821  0.416  0.016574\n",
      "               2.0                  0.223       -0.942  0.352  0.022807\n",
      "               3.0                  0.149        0.916  0.366  0.023423\n",
      "               4.0                  0.161       -0.670  0.508  0.014289\n",
      "---GOOGLE INVESTOR ATTENNTION WEEKLY MOMENTUM BY QUINTILE---\n",
      "                         equal error rate  t-statistic  p<|t|       r^2\n",
      "quintile_index rt_index                                                \n",
      "-48.827567     1.0                  0.103        0.602  0.551  0.008970\n",
      "               2.0                  0.109       -0.169  0.866  0.000754\n",
      "               3.0                  0.110       -0.133  0.895  0.000503\n",
      "               4.0                  0.085       -1.744  0.091  0.089312\n",
      "-9.211302      1.0                  0.024        0.553  0.584  0.007776\n",
      "               2.0                  0.025        0.051  0.960  0.000069\n",
      "               3.0                  0.025       -1.177  0.247  0.039140\n",
      "               4.0                  0.025       -1.118  0.272  0.040022\n",
      "-4.470307      1.0                  0.054        0.535  0.596  0.007285\n",
      "               2.0                  0.058        0.337  0.738  0.003060\n",
      "               3.0                  0.061       -0.295  0.770  0.002556\n",
      "               4.0                  0.061       -0.742  0.464  0.018037\n",
      " 1.795526      1.0                  0.113       -1.617  0.114  0.062809\n",
      "               2.0                  0.113       -0.989  0.329  0.025753\n",
      "               3.0                  0.115       -1.171  0.250  0.038779\n",
      "               4.0                  0.124       -0.907  0.372  0.026690\n",
      " 11.641494     1.0                  0.147       -0.436  0.665  0.004728\n",
      "               2.0                  0.150       -0.028  0.978  0.000021\n",
      "               3.0                  0.097       -0.883  0.383  0.021774\n",
      "               4.0                  0.101       -1.422  0.165  0.061220\n",
      "---------------------------------------------------*****---------------------------------------------------\n",
      "---------------------------------------------------*****---------------------------------------------------\n"
     ]
    },
    {
     "data": {
      "image/png": "[encoded data removed]",
      "text/plain": [
       "<Figure size 432x288 with 1 Axes>"
      ]
     },
     "metadata": {
      "needs_background": "light"
     },
     "output_type": "display_data"
    },
    {
     "data": {
      "image/png": "[encoded data removed]",
      "text/plain": [
       "<Figure size 432x288 with 1 Axes>"
      ]
     },
     "metadata": {
      "needs_background": "light"
     },
     "output_type": "display_data"
    },
    {
     "name": "stdout",
     "output_type": "stream",
     "text": [
      "---DAILY MOMENTUM---\n",
      "          equal error rate  t-statistic  p<|t|       r^2\n",
      "rt_index                                                \n",
      "1.0                  0.021       -9.952  0.000  0.043688\n",
      "2.0                  0.021        6.024  0.000  0.016478\n",
      "3.0                  0.021        0.831  0.406  0.000319\n",
      "4.0                  0.022        0.758  0.448  0.000266\n",
      "5.0                  0.022        1.897  0.058  0.001668\n",
      "6.0                  0.022       -0.524  0.600  0.000128\n",
      "7.0                  0.022        3.122  0.002  0.004532\n",
      "---WEEKLY MOMENTUM---\n",
      "          equal error rate  t-statistic  p<|t|       r^2\n",
      "rt_index                                                \n",
      "1.0                  0.055        4.536  0.000  0.062808\n",
      "2.0                  0.057        2.478  0.014  0.019736\n",
      "3.0                  0.058        0.791  0.429  0.002070\n",
      "---GOOGLE INVESTOR ATTENNTION WEEKLY MOMENTUM---\n",
      "          equal error rate  t-statistic  p<|t|       r^2\n",
      "rt_index                                                \n",
      "1.0                  0.142        0.985  0.326  0.003149\n",
      "2.0                  0.142       -0.024  0.981  0.000002\n",
      "3.0                  0.142       -1.269  0.205  0.005308\n",
      "4.0                  0.142       -1.447  0.149  0.006977\n",
      "5.0                  0.141       -1.209  0.228  0.004960\n",
      "6.0                  0.142       -1.181  0.239  0.004835\n",
      "7.0                  0.144       -1.428  0.154  0.007227\n",
      "---WEEKLY MOMENTUM BY QUINTILE---\n",
      "                         equal error rate  t-statistic  p<|t|           r^2\n",
      "quintile_index rt_index                                                    \n",
      "-49.906616     1.0                  0.131       -0.061  0.952  6.242585e-05\n",
      "               2.0                  0.155       -0.733  0.467  9.330152e-03\n",
      "               3.0                  0.148        0.578  0.565  6.157704e-03\n",
      "               4.0                  0.143        0.654  0.516  8.486787e-03\n",
      "-8.700225      1.0                  0.129        0.007  0.994  8.431874e-07\n",
      "               2.0                  0.128        0.274  0.785  1.314987e-03\n",
      "               3.0                  0.131       -1.466  0.148  3.827517e-02\n",
      "               4.0                  0.133        0.967  0.338  1.834651e-02\n",
      "-3.025906      1.0                  0.130        0.813  0.419  1.108269e-02\n",
      "               2.0                  0.127        0.658  0.513  7.546810e-03\n",
      "               3.0                  0.124        2.020  0.048  7.023926e-02\n",
      "               4.0                  0.136        0.399  0.692  3.169062e-03\n",
      " 1.347004      1.0                  0.128        0.493  0.624  4.102791e-03\n",
      "               2.0                  0.126       -0.160  0.873  4.486037e-04\n",
      "               3.0                  0.133       -0.793  0.431  1.151571e-02\n",
      "               4.0                  0.137        0.716  0.477  1.015260e-02\n",
      " 9.018649      1.0                  0.128        1.261  0.212  2.625239e-02\n",
      "               2.0                  0.129        1.947  0.056  6.237157e-02\n",
      "               3.0                  0.135        0.920  0.361  1.544670e-02\n",
      "               4.0                  0.140        0.396  0.694  3.130060e-03\n",
      "---GOOGLE INVESTOR ATTENNTION WEEKLY MOMENTUM BY QUINTILE---\n",
      "                         equal error rate  t-statistic  p<|t|       r^2\n",
      "quintile_index rt_index                                                \n",
      "-49.906616     1.0                  0.093       -1.333  0.187  0.029257\n",
      "               2.0                  0.094       -1.234  0.222  0.026007\n",
      "               3.0                  0.081       -1.334  0.188  0.031900\n",
      "               4.0                  0.077       -0.911  0.367  0.016313\n",
      "-8.700225      1.0                  0.101        0.015  0.988  0.000004\n",
      "               2.0                  0.099       -1.246  0.218  0.026516\n",
      "               3.0                  0.102        0.160  0.873  0.000475\n",
      "               4.0                  0.099       -0.472  0.639  0.004442\n",
      "-3.025906      1.0                  0.063       -0.089  0.929  0.000135\n",
      "               2.0                  0.060        0.183  0.856  0.000584\n",
      "               3.0                  0.060       -0.104  0.918  0.000200\n",
      "               4.0                  0.062        0.360  0.720  0.002583\n",
      " 1.347004      1.0                  0.102        0.097  0.923  0.000161\n",
      "               2.0                  0.100       -0.127  0.900  0.000281\n",
      "               3.0                  0.102       -0.783  0.437  0.011229\n",
      "               4.0                  0.102       -0.069  0.946  0.000094\n",
      " 9.018649      1.0                  0.279        0.391  0.698  0.002579\n",
      "               2.0                  0.283        0.288  0.774  0.001453\n",
      "               3.0                  0.288       -0.219  0.827  0.000891\n",
      "               4.0                  0.295       -0.395  0.695  0.003110\n",
      "---------------------------------------------------*****---------------------------------------------------\n",
      "---------------------------------------------------*****---------------------------------------------------\n"
     ]
    },
    {
     "data": {
      "image/png": "[encoded data removed]",
      "text/plain": [
       "<Figure size 432x288 with 1 Axes>"
      ]
     },
     "metadata": {
      "needs_background": "light"
     },
     "output_type": "display_data"
    },
    {
     "data": {
      "image/png": "[encoded data removed]",
      "text/plain": [
       "<Figure size 432x288 with 1 Axes>"
      ]
     },
     "metadata": {
      "needs_background": "light"
     },
     "output_type": "display_data"
    },
    {
     "name": "stdout",
     "output_type": "stream",
     "text": [
      "---DAILY MOMENTUM---\n",
      "          equal error rate  t-statistic  p<|t|           r^2\n",
      "rt_index                                                    \n",
      "1.0                  0.029       -0.180  0.857  2.777335e-05\n",
      "2.0                  0.029        2.394  0.017  4.914218e-03\n",
      "3.0                  0.029        1.301  0.194  1.459430e-03\n",
      "4.0                  0.029        1.244  0.214  1.338365e-03\n",
      "5.0                  0.029       -0.032  0.974  9.166261e-07\n",
      "6.0                  0.030       -0.406  0.685  1.443452e-04\n",
      "7.0                  0.030       -0.863  0.388  6.546993e-04\n",
      "---WEEKLY MOMENTUM---\n",
      "          equal error rate  t-statistic  p<|t|       r^2\n",
      "rt_index                                                \n",
      "1.0                  0.078       -0.658  0.511  0.002653\n",
      "2.0                  0.078       -0.908  0.365  0.005100\n",
      "3.0                  0.079       -0.650  0.516  0.002671\n",
      "---GOOGLE INVESTOR ATTENNTION WEEKLY MOMENTUM---\n",
      "          equal error rate  t-statistic  p<|t|       r^2\n",
      "rt_index                                                \n",
      "1.0                  0.107       -1.265  0.208  0.009729\n",
      "2.0                  0.108       -1.058  0.292  0.006904\n",
      "3.0                  0.121       -1.147  0.253  0.008263\n",
      "4.0                  0.133        0.193  0.847  0.000242\n",
      "5.0                  0.176        2.084  0.039  0.028322\n",
      "6.0                  0.177        0.583  0.561  0.002369\n",
      "7.0                  0.180       -1.671  0.097  0.020114\n",
      "---WEEKLY MOMENTUM BY QUINTILE---\n",
      "                         equal error rate  t-statistic  p<|t|       r^2\n",
      "quintile_index rt_index                                                \n",
      "-50.386076     1.0                  0.183        0.391  0.698  0.004912\n",
      "               2.0                  0.189        0.632  0.532  0.013605\n",
      "               3.0                  0.201       -0.704  0.488  0.018716\n",
      "               4.0                  0.252       -0.139  0.890  0.000881\n",
      "-9.822826      1.0                  0.180        0.914  0.368  0.027075\n",
      "               2.0                  0.194       -0.963  0.344  0.032054\n",
      "               3.0                  0.205       -0.076  0.940  0.000233\n",
      "               4.0                  0.212       -0.853  0.403  0.033473\n",
      "-3.397461      1.0                  0.186       -1.126  0.269  0.040542\n",
      "               2.0                  0.192       -0.833  0.412  0.024171\n",
      "               3.0                  0.201        0.599  0.554  0.014159\n",
      "               4.0                  0.218        1.354  0.190  0.080249\n",
      " 1.600000      1.0                  0.181       -1.073  0.292  0.036954\n",
      "               2.0                  0.197        0.046  0.964  0.000076\n",
      "               3.0                  0.208       -0.396  0.696  0.006230\n",
      "               4.0                  0.218        0.716  0.482  0.023814\n",
      " 10.301193     1.0                  0.183       -0.204  0.839  0.001391\n",
      "               2.0                  0.193       -0.671  0.508  0.015811\n",
      "               3.0                  0.189        1.451  0.159  0.077635\n",
      "               4.0                  0.214       -0.594  0.559  0.016506\n",
      "---GOOGLE INVESTOR ATTENNTION WEEKLY MOMENTUM BY QUINTILE---\n",
      "                         equal error rate  t-statistic  p<|t|       r^2\n",
      "quintile_index rt_index                                                \n",
      "-50.386076     1.0                  0.101       -0.216  0.830  0.001506\n",
      "               2.0                  0.104       -1.829  0.078  0.103443\n",
      "               3.0                  0.152        0.409  0.686  0.006398\n",
      "               4.0                  0.161        0.816  0.423  0.029396\n",
      "-9.822826      1.0                  0.044       -0.514  0.611  0.008731\n",
      "               2.0                  0.062        1.711  0.098  0.094650\n",
      "               3.0                  0.076        0.860  0.398  0.028728\n",
      "               4.0                  0.081        0.935  0.360  0.039973\n",
      "-3.397461      1.0                  0.030        0.453  0.654  0.006801\n",
      "               2.0                  0.029        0.114  0.910  0.000467\n",
      "               3.0                  0.029        0.797  0.433  0.024795\n",
      "               4.0                  0.029       -1.592  0.126  0.107708\n",
      " 1.600000      1.0                  0.054        0.522  0.605  0.009003\n",
      "               2.0                  0.087        0.838  0.409  0.024444\n",
      "               3.0                  0.115       -2.165  0.040  0.157833\n",
      "               4.0                  0.114       -1.611  0.122  0.109965\n",
      " 10.301193     1.0                  0.272        1.252  0.220  0.049679\n",
      "               2.0                  0.511       -0.077  0.939  0.000211\n",
      "               3.0                  0.534       -0.187  0.853  0.001404\n",
      "               4.0                  0.584        0.105  0.918  0.000521\n",
      "---------------------------------------------------*****---------------------------------------------------\n",
      "---------------------------------------------------*****---------------------------------------------------\n"
     ]
    }
   ],
   "source": [
    "folder = \"resources/\"\n",
    "\n",
    "for filename in [\"btc.csv\", \"eth.csv\", \"dash.csv\", \"xrp.csv\", \"bch.csv\"]:\n",
    "    data = pd.read_csv(folder + filename, parse_dates=True)\n",
    "    data = preprocess(data, filename)\n",
    "    \n",
    "    daily_df = get_daily_df(data)\n",
    "    daily_df = add_google_data(daily_df, 1)\n",
    "    \n",
    "    plot_daily_df(daily_df)\n",
    "    \n",
    "    weekly_df = get_weekly_df(data)\n",
    "    weekly_df =  add_google_data(weekly_df, 7)\n",
    "    plot_weekly_df(weekly_df)\n",
    "    \n",
    "    \n",
    "    monthly_df = get_monthly_df(data)\n",
    "    plot_monthly_df(monthly_df)\n",
    "    \n",
    "    print(\"---DAILY MOMENTUM---\")\n",
    "    print(get_daily_momentum(daily_df).set_index(keys=[\"rt_index\"]))\n",
    "          \n",
    "    print(\"---WEEKLY MOMENTUM---\")\n",
    "    print(get_weekly_momentum(weekly_df).set_index(keys=[\"rt_index\"]))\n",
    "          \n",
    "    \n",
    "    print(\"---GOOGLE INVESTOR ATTENNTION WEEKLY MOMENTUM---\")\n",
    "    print(get_invatt_google_weekly(weekly_df).set_index(keys=[\"rt_index\"]))\n",
    "    \n",
    "    \n",
    "    #group by quintile \n",
    "    labels, quantile_df = apply_quantiles(weekly_df[\"ReturnW\"], 5)\n",
    "    weekly_df_quintile  = pd.concat([weekly_df, quantile_df.rename(\"quintile_idx\")],\n",
    "                            axis=1)\n",
    "    \n",
    "    print(\"---WEEKLY MOMENTUM BY QUINTILE---\")\n",
    "    print(get_group_weekly_momentum(labels, weekly_df_quintile).set_index(keys=[\"quintile_index\", \"rt_index\"]))\n",
    "    \n",
    "    \n",
    "    labels, quantile_df = apply_quantiles(weekly_df[\"ReturnW\"], 5)\n",
    "    weekly_df_google_quintile = pd.concat([weekly_df, quantile_df.rename(\"quintile_google_idx\")], axis=1)\n",
    "    \n",
    "    print(\"---GOOGLE INVESTOR ATTENNTION WEEKLY MOMENTUM BY QUINTILE---\")\n",
    "    print(get_group_invatt_google_weekly(labels, weekly_df_google_quintile).set_index(keys=[\"quintile_index\", \"rt_index\"]))    \n",
    "    \n",
    "    \n",
    "    print(\"---------------------------------------------------*****---------------------------------------------------\")\n",
    "    print(\"---------------------------------------------------*****---------------------------------------------------\")"
   ]
  },
  {
   "cell_type": "code",
   "execution_count": null,
   "metadata": {},
   "outputs": [],
   "source": []
  },
  {
   "cell_type": "code",
   "execution_count": null,
   "metadata": {},
   "outputs": [],
   "source": []
  }
 ],
 "metadata": {
  "kernelspec": {
   "display_name": "Python 3",
   "language": "python",
   "name": "python3"
  },
  "language_info": {
   "codemirror_mode": {
    "name": "ipython",
    "version": 3
   },
   "file_extension": ".py",
   "mimetype": "text/x-python",
   "name": "python",
   "nbconvert_exporter": "python",
   "pygments_lexer": "ipython3",
   "version": "3.7.1"
  },
  "pycharm": {
   "stem_cell": {
    "cell_type": "raw",
    "metadata": {
     "collapsed": false
    },
    "source": []
   }
  }
 },
 "nbformat": 4,
 "nbformat_minor": 4
}
